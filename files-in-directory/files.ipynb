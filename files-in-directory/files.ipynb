{
 "cells": [
  {
   "cell_type": "markdown",
   "id": "177bd13a-b781-4bfa-8b28-ad05b9b8c2b8",
   "metadata": {},
   "source": [
    "# Files on one line\n",
    "\n",
    "Read files from current directry and display their names one on every line."
   ]
  },
  {
   "cell_type": "markdown",
   "id": "153b06c8-9939-48b9-9db3-466feb4dff2c",
   "metadata": {},
   "source": [
    "## Using `os`\n",
    "\n",
    "- [os.path os.path.isfile](https://docs.python.org/3/library/os.path.html#os.path.isfile)\n",
    "- [os os.listdir](https://docs.python.org/3/library/os.html#os.listdir)\n"
   ]
  },
  {
   "cell_type": "code",
   "execution_count": 3,
   "id": "255268ea-2a2a-4708-a4d9-3b878777cd90",
   "metadata": {},
   "outputs": [
    {
     "name": "stdout",
     "output_type": "stream",
     "text": [
      "files.html\n",
      "files.ipynb\n"
     ]
    }
   ],
   "source": [
    "import os\n",
    "\n",
    "files = [f for f in os.listdir('.') if os.path.isfile(f)]\n",
    "print(\"\\n\".join(files))"
   ]
  },
  {
   "cell_type": "markdown",
   "id": "b975f36f-54ce-4001-85d4-8e402ed8987d",
   "metadata": {},
   "source": [
    "## Using `join`\n",
    "\n",
    "`separator.join(iterable)`\n",
    "\n",
    "Documentation [stdtypes str.join](https://docs.python.org/3/library/stdtypes.html#str.join)"
   ]
  },
  {
   "cell_type": "markdown",
   "id": "78336443-0deb-402a-9056-1eac1dd21892",
   "metadata": {},
   "source": [
    "## Using `pathlib`\n",
    "\n",
    "1. `Path('.')` : Represents the current directory as a path object\n",
    "2. `.iterdir()` : Iterates over all entries (files and dirs) in the directory\n",
    "3. `f.is_file()`\n",
    "\n",
    "This approach is more modern and uses OOP."
   ]
  },
  {
   "cell_type": "code",
   "execution_count": 4,
   "id": "39bc2efe-324d-440d-a599-32e4368709c2",
   "metadata": {},
   "outputs": [
    {
     "name": "stdout",
     "output_type": "stream",
     "text": [
      "files.html\n",
      "files.ipynb\n"
     ]
    }
   ],
   "source": [
    "from pathlib import Path\n",
    "\n",
    "files = [f.name for f in Path('.').iterdir() if f.is_file()]\n",
    "print(\"\\n\".join(files))"
   ]
  },
  {
   "cell_type": "markdown",
   "id": "5c11c95b-9140-4b99-bdf4-b20b3546480b",
   "metadata": {},
   "source": [
    "### Resources\n",
    "\n",
    "- [RealPython: python-pathlib](https://realpython.com/python-pathlib/)\n",
    "- [pathlib pathlib.Path](https://docs.python.org/3/library/pathlib.html#pathlib.Path)\n",
    "- [pathlib pathlib.Path.iterdir](https://docs.python.org/3/library/pathlib.html#pathlib.Path.iterdir)\n"
   ]
  },
  {
   "cell_type": "markdown",
   "id": "5a812d0b-514f-4875-a2f3-a06d458bbf28",
   "metadata": {},
   "source": [
    "## Using bash\n",
    "\n",
    "### Using `ls`\n",
    "\n",
    "```bash\n",
    "ls -p | grep -v /\n",
    "```\n",
    "\n",
    "1. `ls -p` : lists all the files and directories, directories are shown with a trailing `/`\n",
    "2. `grep -v /` : inverted grep, match all lines NOT containing `/` (directories)\n",
    "\n",
    "### When only files\n",
    "\n",
    "`ls -1`\n",
    "\n",
    "List all items in the current directory on one line.\n",
    "\n",
    "### Using `find`\n",
    "\n",
    "`find -maxdepth 1 -type f`\n",
    "\n"
   ]
  }
 ],
 "metadata": {
  "kernelspec": {
   "display_name": "Python 3 (ipykernel)",
   "language": "python",
   "name": "python3"
  },
  "language_info": {
   "codemirror_mode": {
    "name": "ipython",
    "version": 3
   },
   "file_extension": ".py",
   "mimetype": "text/x-python",
   "name": "python",
   "nbconvert_exporter": "python",
   "pygments_lexer": "ipython3",
   "version": "3.10.15"
  }
 },
 "nbformat": 4,
 "nbformat_minor": 5
}
