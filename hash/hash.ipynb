{
 "cells": [
  {
   "metadata": {},
   "cell_type": "markdown",
   "source": "Compute hashes MD5, SHA1 and SHA256 and measure their output in bytes and bits.\n\nDisplay the result in a table.\n\n"
  },
  {
   "metadata": {
    "trusted": true
   },
   "cell_type": "code",
   "source": "text:str = \"Cristi\"",
   "execution_count": 3,
   "outputs": []
  },
  {
   "metadata": {
    "trusted": true
   },
   "cell_type": "code",
   "source": "import hashlib\n\nalgorithms = ['md5', 'sha1', 'sha256']\ntable = []\nfor a in algorithms:\n    hash_alg = hashlib.new(a)\n    encoded_str = text.encode('utf-8')\n    hash_alg.update(encoded_str)\n    hex_size = hash_alg.digest_size\n    table.append([a, hex_size, hex_size * 8])\n    #print(f\"{a:>10} : {hex_size} - {hex_size * 8}\")",
   "execution_count": 9,
   "outputs": []
  },
  {
   "metadata": {
    "trusted": true
   },
   "cell_type": "code",
   "source": "from IPython.display import HTML, display\nhead = ['algorithm', 'bytes', 'bits']\ndisplay(HTML(\n   '<table><th>{}</th><tr>{}</tr></table>'.format(\n       '{}'.format('</td><td>'.join(str(h) for h in head)),\n       '</tr><tr>'.join(\n           '<td>{}</td>'.format('</td><td>'.join(str(_) for _ in row)) for row in table)\n       )\n))",
   "execution_count": 10,
   "outputs": [
    {
     "output_type": "display_data",
     "data": {
      "text/plain": "<IPython.core.display.HTML object>",
      "text/html": "<table><th>algorithm</td><td>bytes</td><td>bits</th><tr><td>md5</td><td>16</td><td>128</td></tr><tr><td>sha1</td><td>20</td><td>160</td></tr><tr><td>sha256</td><td>32</td><td>256</td></tr></table>"
     },
     "metadata": {}
    }
   ]
  }
 ],
 "metadata": {
  "kernelspec": {
   "name": "python3",
   "display_name": "Python 3",
   "language": "python"
  },
  "language_info": {
   "name": "python",
   "version": "3.10.4",
   "mimetype": "text/x-python",
   "codemirror_mode": {
    "name": "ipython",
    "version": 3
   },
   "pygments_lexer": "ipython3",
   "nbconvert_exporter": "python",
   "file_extension": ".py"
  }
 },
 "nbformat": 4,
 "nbformat_minor": 2
}