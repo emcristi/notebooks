{
 "cells": [
  {
   "metadata": {},
   "cell_type": "markdown",
   "source": "Calling a regular function with named arguments. \nThey can appear in any order."
  },
  {
   "metadata": {
    "trusted": false
   },
   "cell_type": "code",
   "source": "def add(x:int, y:str='1', z:int=10) -> int:\n    return x + int(y) + z\n\nadd(8, z=99, y=999)",
   "execution_count": 11,
   "outputs": [
    {
     "output_type": "execute_result",
     "execution_count": 11,
     "data": {
      "text/plain": "1106"
     },
     "metadata": {}
    }
   ]
  },
  {
   "metadata": {},
   "cell_type": "markdown",
   "source": "keyword unpacking "
  },
  {
   "metadata": {
    "trusted": false
   },
   "cell_type": "code",
   "source": "dict={'z':56, 'x':89, 'y':'1002'}\nadd(**dict)",
   "execution_count": 18,
   "outputs": [
    {
     "output_type": "execute_result",
     "execution_count": 18,
     "data": {
      "text/plain": "1147"
     },
     "metadata": {}
    }
   ]
  },
  {
   "metadata": {},
   "cell_type": "markdown",
   "source": "transform 1,234,234K into a number "
  },
  {
   "metadata": {
    "trusted": true
   },
   "cell_type": "code",
   "source": "ss = \"1,234,345K\"\ndef to_number(s:str)->int:\n    r=\"\"\n    for c in s:\n        if c.isdigit():\n            r=r+c\n    return(int(r))\n    \n    \ndef to_number2(s:str)->int:\n    r=''.join(filter(str.isdigit,s))\n    return(int(r))\nprint(to_number2(ss))\nassert(to_number2(ss) == to_number(ss))",
   "execution_count": 5,
   "outputs": [
    {
     "output_type": "stream",
     "text": "1234345\n",
     "name": "stdout"
    }
   ]
  }
 ],
 "metadata": {
  "kernelspec": {
   "name": "python3",
   "display_name": "Python 3",
   "language": "python"
  },
  "language_info": {
   "name": "python",
   "version": "3.10.4",
   "mimetype": "text/x-python",
   "codemirror_mode": {
    "name": "ipython",
    "version": 3
   },
   "pygments_lexer": "ipython3",
   "nbconvert_exporter": "python",
   "file_extension": ".py"
  }
 },
 "nbformat": 4,
 "nbformat_minor": 2
}