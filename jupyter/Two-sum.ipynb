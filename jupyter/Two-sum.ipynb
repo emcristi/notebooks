{
 "cells": [
  {
   "metadata": {},
   "id": "999881e3-6d38-4e9c-b718-b9104c45b343",
   "cell_type": "markdown",
   "source": "## Two sum"
  },
  {
   "metadata": {},
   "id": "ef4477b2-6fa3-4ca2-ad2e-2496d38703d3",
   "cell_type": "markdown",
   "source": "<https://leetcode.com/problems/two-sum/>\n\n\nGiven an array of integers `nums` and an integer `target`, return _indices of the two numbers such that they add up to `target`_.\n\nYou may assume that each input would have exactly one solution, and you may not use the same element twice.\n\nYou can return the answer in any order.\n\nExample 1:\n\n```\nInput: nums = [2,7,11,15], target = 9\nOutput: [0,1]\nExplanation: Because nums[0] + nums[1] == 9, we return [0, 1].\n```\n\nExample 2:\n\n```\nInput: nums = [3,2,4], target = 6\nOutput: [1,2]\n```\n\nExample 3:\n\n```\nInput: nums = [3,3], target = 6\nOutput: [0,1]\n```\n\n### Constraints\n\n* `2 <= nums.length <= 104`\n* `-109 <= nums[i] <= 109`\n* `-109 <= target <= 109`\n\nOnly one valid answer exists.\n\n### Follow-up\n\nCan you come up with an algorithm that is less than `O(n2)` time complexity?\n"
  },
  {
   "metadata": {
    "trusted": true
   },
   "id": "99532942-04b2-4d91-9745-bf3c1eaaa001",
   "cell_type": "code",
   "source": "class Solution(object):\n    def twoSum(self, nums, target):\n        \"\"\"\n        :type nums: List[int]\n        :type target: int\n        :rtype: List[int]\n        \"\"\"",
   "execution_count": 1,
   "outputs": []
  },
  {
   "metadata": {},
   "id": "07f5229a-af1f-4cd1-9f2b-f4f9ee75dc93",
   "cell_type": "raw",
   "source": ""
  },
  {
   "metadata": {
    "trusted": true
   },
   "id": "4ff0246c-e478-4233-8057-f973d47f8923",
   "cell_type": "code",
   "source": "%%timeit -r 2 -n 3\n\nimport random\nimport time\n\ndef generateArray(l=10000, target=8):\n    a=[]\n    for i in range(l):\n        a.append(random.randrange(1000) + 10000)\n    a[-2] = 2\n    a[-1] = target - 2\n    print(f\"Generated an array with length = {len(a)}\")\n    return a\n\n\ndef twoSum(nums, target):\n    for i in range(len(nums)):\n        for j in range(len(nums)):\n            if nums[i] + nums[j] == target:\n                print(f\"{target} is a sum of indexes {i} and {j}\")\n                return\n\ntarget=9\nlenght=random.randrange(6000)+2000\nstart = time.perf_counter()\narr = generateArray(lenght,target)\ntwoSum(arr, target)\nelapsed = time.perf_counter() - start\nprint(f\"----Done in {elapsed:.3f} seconds----\")",
   "execution_count": 6,
   "outputs": [
    {
     "output_type": "stream",
     "text": "Generated an array with length = 2835\n9 is a sum of indexes 2833 and 2834\n----Done in 0.805 seconds----\nGenerated an array with length = 7186\n9 is a sum of indexes 7184 and 7185\n----Done in 4.700 seconds----\nGenerated an array with length = 3061\n9 is a sum of indexes 3059 and 3060\n----Done in 0.875 seconds----\nGenerated an array with length = 5442\n9 is a sum of indexes 5440 and 5441\n----Done in 2.890 seconds----\nGenerated an array with length = 4122\n9 is a sum of indexes 4120 and 4121\n----Done in 1.550 seconds----\nGenerated an array with length = 4703\n9 is a sum of indexes 4701 and 4702\n----Done in 2.079 seconds----\n2.15 s ± 23.2 ms per loop (mean ± std. dev. of 2 runs, 3 loops each)\n",
     "name": "stdout"
    }
   ]
  },
  {
   "metadata": {
    "trusted": true
   },
   "id": "f0159d66-a17c-48eb-bea8-0a2e9df063d0",
   "cell_type": "code",
   "source": "",
   "execution_count": null,
   "outputs": []
  }
 ],
 "metadata": {
  "kernelspec": {
   "name": "python3",
   "display_name": "Python 3",
   "language": "python"
  },
  "language_info": {
   "name": "python",
   "version": "3.10.4",
   "mimetype": "text/x-python",
   "codemirror_mode": {
    "name": "ipython",
    "version": 3
   },
   "pygments_lexer": "ipython3",
   "nbconvert_exporter": "python",
   "file_extension": ".py"
  }
 },
 "nbformat": 4,
 "nbformat_minor": 5
}