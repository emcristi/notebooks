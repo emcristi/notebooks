{
 "cells": [
  {
   "cell_type": "markdown",
   "id": "999881e3-6d38-4e9c-b718-b9104c45b343",
   "metadata": {},
   "source": [
    "## Two sum"
   ]
  },
  {
   "cell_type": "markdown",
   "id": "ef4477b2-6fa3-4ca2-ad2e-2496d38703d3",
   "metadata": {},
   "source": [
    "<https://leetcode.com/problems/two-sum/>\n",
    "\n",
    "\n",
    "Given an array of integers `nums` and an integer `target`, return _indices of the two numbers such that they add up to `target`_.\n",
    "\n",
    "You may assume that each input would have exactly one solution, and you may not use the same element twice.\n",
    "\n",
    "You can return the answer in any order.\n",
    "\n",
    "Example 1:\n",
    "\n",
    "```\n",
    "Input: nums = [2,7,11,15], target = 9\n",
    "Output: [0,1]\n",
    "Explanation: Because nums[0] + nums[1] == 9, we return [0, 1].\n",
    "```\n",
    "\n",
    "Example 2:\n",
    "\n",
    "```\n",
    "Input: nums = [3,2,4], target = 6\n",
    "Output: [1,2]\n",
    "```\n",
    "\n",
    "Example 3:\n",
    "\n",
    "```\n",
    "Input: nums = [3,3], target = 6\n",
    "Output: [0,1]\n",
    "```\n",
    "\n",
    "### Constraints\n",
    "\n",
    "* `2 <= nums.length <= 104`\n",
    "* `-109 <= nums[i] <= 109`\n",
    "* `-109 <= target <= 109`\n",
    "\n",
    "Only one valid answer exists.\n",
    "\n",
    "### Follow-up\n",
    "\n",
    "Can you come up with an algorithm that is less than `O(n2)` time complexity?\n"
   ]
  },
  {
   "cell_type": "code",
   "execution_count": null,
   "id": "99532942-04b2-4d91-9745-bf3c1eaaa001",
   "metadata": {},
   "outputs": [],
   "source": [
    "class Solution(object):\n",
    "    def twoSum(self, nums, target):\n",
    "        \"\"\"\n",
    "        :type nums: List[int]\n",
    "        :type target: int\n",
    "        :rtype: List[int]\n",
    "        \"\"\""
   ]
  },
  {
   "cell_type": "raw",
   "id": "07f5229a-af1f-4cd1-9f2b-f4f9ee75dc93",
   "metadata": {},
   "source": []
  },
  {
   "cell_type": "code",
   "execution_count": 10,
   "id": "4ff0246c-e478-4233-8057-f973d47f8923",
   "metadata": {},
   "outputs": [
    {
     "name": "stdout",
     "output_type": "stream",
     "text": [
      "Generated an array with length = 6000\n",
      "9 is a sum of indexes 5998 and 5999\n",
      "----Done in 5.668 seconds----\n",
      "5.67 s ± 0 ns per loop (mean ± std. dev. of 1 run, 1 loop each)\n"
     ]
    }
   ],
   "source": [
    "%%timeit -r 1 -n 1\n",
    "\n",
    "import random\n",
    "import time\n",
    "\n",
    "def generateArray(l=10000, target=8):\n",
    "    a=[]\n",
    "    for i in range(l):\n",
    "        a.append(random.randrange(1000) + 10000)\n",
    "    a[-2] = 2\n",
    "    a[-1] = target - 2\n",
    "    print(f\"Generated an array with length = {len(a)}\")\n",
    "    return a\n",
    "\n",
    "\n",
    "def twoSum(nums, target):\n",
    "    for i in range(len(nums)):\n",
    "        for j in range(len(nums)):\n",
    "            if nums[i] + nums[j] == target:\n",
    "                print(f\"{target} is a sum of indexes {i} and {j}\")\n",
    "                return\n",
    "\n",
    "target=9\n",
    "start = time.perf_counter()\n",
    "arr = generateArray(6000,target)\n",
    "twoSum(arr, target)\n",
    "elapsed = time.perf_counter() - start\n",
    "print(f\"----Done in {elapsed:.3f} seconds----\")"
   ]
  },
  {
   "cell_type": "code",
   "execution_count": null,
   "id": "f0159d66-a17c-48eb-bea8-0a2e9df063d0",
   "metadata": {},
   "outputs": [],
   "source": []
  }
 ],
 "metadata": {
  "kernelspec": {
   "display_name": "Python 3 (ipykernel)",
   "language": "python",
   "name": "python3"
  },
  "language_info": {
   "codemirror_mode": {
    "name": "ipython",
    "version": 3
   },
   "file_extension": ".py",
   "mimetype": "text/x-python",
   "name": "python",
   "nbconvert_exporter": "python",
   "pygments_lexer": "ipython3",
   "version": "3.10.15"
  }
 },
 "nbformat": 4,
 "nbformat_minor": 5
}
