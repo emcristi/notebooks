{
 "cells": [
  {
   "metadata": {},
   "cell_type": "markdown",
   "source": "Compute hashes MD5, SHA1 and SHA256 and measure their output in bytes and bits.\n\nDisplay the result in a table.\n\n"
  },
  {
   "metadata": {
    "trusted": false
   },
   "cell_type": "code",
   "source": "text:str = \"Cristi\"",
   "execution_count": 3,
   "outputs": []
  },
  {
   "metadata": {
    "trusted": true
   },
   "cell_type": "code",
   "source": "import hashlib\n\nalgorithms = ['md5', 'sha1', 'sha256']\ntable = []\nfor a in algorithms:\n    hash_alg = hashlib.new(a)\n    encoded_str = text.encode('utf-8')\n    hash_alg.update(encoded_str)\n    hex_size = hash_alg.digest_size\n    table.append([a, hex_size, hex_size * 8])\n    #print(f\"{a:>10} : {hex_size} - {hex_size * 8}\")",
   "execution_count": 11,
   "outputs": []
  },
  {
   "metadata": {
    "trusted": true
   },
   "cell_type": "code",
   "source": "from IPython.display import HTML, display\nhead = ['algorithm', 'bytes', 'bits']\ndef get_table_row(elements:list, is_head:bool=False)->str:\n    template:str = '<th>{}</th>' if is_head else '<tr>{}</tr>'\n    r:str = template.format(\"\\n\".join([f\"<td>{e}</td>\" for e in elements]))\n    return r\nprint(get_table_row(head))\ndisplay(HTML(\n   '<table>{} {}</table>'.format(\n        get_table_row(head, True),\n       ''.join([get_table_row(row) for row in table])\n       )\n))",
   "execution_count": 15,
   "outputs": [
    {
     "output_type": "stream",
     "text": "<tr><td>algorithm</td>\n<td>bytes</td>\n<td>bits</td></tr>\n",
     "name": "stdout"
    },
    {
     "output_type": "display_data",
     "data": {
      "text/plain": "<IPython.core.display.HTML object>",
      "text/html": "<table><th><td>algorithm</td>\n<td>bytes</td>\n<td>bits</td></th> <tr><td>md5</td>\n<td>16</td>\n<td>128</td></tr><tr><td>sha1</td>\n<td>20</td>\n<td>160</td></tr><tr><td>sha256</td>\n<td>32</td>\n<td>256</td></tr></table>"
     },
     "metadata": {}
    }
   ]
  }
 ],
 "metadata": {
  "kernelspec": {
   "name": "python3",
   "display_name": "Python 3",
   "language": "python"
  },
  "language_info": {
   "name": "python",
   "version": "3.10.4",
   "mimetype": "text/x-python",
   "codemirror_mode": {
    "name": "ipython",
    "version": 3
   },
   "pygments_lexer": "ipython3",
   "nbconvert_exporter": "python",
   "file_extension": ".py"
  }
 },
 "nbformat": 4,
 "nbformat_minor": 2
}