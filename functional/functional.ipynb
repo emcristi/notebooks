{
 "cells": [
  {
   "metadata": {},
   "cell_type": "markdown",
   "source": "# Functional Python\n\n## Sorting \n\nhttps://docs.python.org/3/howto/sorting.html\n"
  },
  {
   "metadata": {},
   "cell_type": "markdown",
   "source": "### range function \n\nhttps://cs.stanford.edu/people/nick/py/\n\nhttps://cs.stanford.edu/people/nick/py/python-range.html\n\n\n"
  },
  {
   "metadata": {
    "trusted": false
   },
   "cell_type": "code",
   "source": "l1 = [c for c in range(5)]\nl2 = list(range(5))\n\"\\n\".join(f\"{l}\" for l in [l1, l2])",
   "execution_count": 10,
   "outputs": [
    {
     "output_type": "execute_result",
     "execution_count": 10,
     "data": {
      "text/plain": "'[0, 1, 2, 3, 4]\\n[0, 1, 2, 3, 4]'"
     },
     "metadata": {}
    }
   ]
  },
  {
   "metadata": {},
   "cell_type": "markdown",
   "source": "https://realpython.com/quizzes/python-dictionary-comprehension/\n\n\n![](dict2.jpeg)\n\n\n![](dict1.jpeg)"
  },
  {
   "metadata": {
    "trusted": true
   },
   "cell_type": "code",
   "source": "squares = {\n    1:1,\n    2:4,\n    3:9,\n    4:16,\n    5:25\n}\nprint(squares)\nsquares2 = {i:i*i for i in range(1,6)}\nprint(squares2)\nassert(squares == squares2)",
   "execution_count": 12,
   "outputs": [
    {
     "output_type": "stream",
     "text": "{1: 1, 2: 4, 3: 9, 4: 16, 5: 25}\n{1: 1, 2: 4, 3: 9, 4: 16, 5: 25}\n",
     "name": "stdout"
    }
   ]
  },
  {
   "metadata": {
    "trusted": true
   },
   "cell_type": "code",
   "source": "squares = {}\nfor num in range(1, 6):\n    squares[num] = num ** 2\nprint(squares)",
   "execution_count": 2,
   "outputs": [
    {
     "output_type": "stream",
     "text": "{1: 1, 2: 4, 3: 9, 4: 16, 5: 25}\n",
     "name": "stdout"
    }
   ]
  }
 ],
 "metadata": {
  "kernelspec": {
   "name": "python3",
   "display_name": "Python 3",
   "language": "python"
  },
  "language_info": {
   "name": "python",
   "version": "3.10.4",
   "mimetype": "text/x-python",
   "codemirror_mode": {
    "name": "ipython",
    "version": 3
   },
   "pygments_lexer": "ipython3",
   "nbconvert_exporter": "python",
   "file_extension": ".py"
  }
 },
 "nbformat": 4,
 "nbformat_minor": 2
}