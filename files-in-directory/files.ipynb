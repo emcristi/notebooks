{
 "cells": [
  {
   "metadata": {},
   "id": "177bd13a-b781-4bfa-8b28-ad05b9b8c2b8",
   "cell_type": "markdown",
   "source": "# Files on one line\n\nRead files from current directry and display their names one on every line."
  },
  {
   "metadata": {},
   "id": "153b06c8-9939-48b9-9db3-466feb4dff2c",
   "cell_type": "markdown",
   "source": "## Using `os`\n\n- [os.path os.path.isfile](https://docs.python.org/3/library/os.path.html#os.path.isfile)\n- [os os.listdir](https://docs.python.org/3/library/os.html#os.listdir)\n"
  },
  {
   "metadata": {
    "trusted": true
   },
   "id": "255268ea-2a2a-4708-a4d9-3b878777cd90",
   "cell_type": "code",
   "source": "import os\n\nfiles = [f for f in os.listdir('.') if os.path.isfile(f)]\nprint(\"\\n\".join(files))",
   "execution_count": 1,
   "outputs": [
    {
     "output_type": "stream",
     "text": "files.html\nfiles.ipynb\nfiles.md\n",
     "name": "stdout"
    }
   ]
  },
  {
   "metadata": {},
   "id": "b975f36f-54ce-4001-85d4-8e402ed8987d",
   "cell_type": "markdown",
   "source": "## Using `join`\n\n`separator.join(iterable)`\n\nDocumentation [stdtypes str.join](https://docs.python.org/3/library/stdtypes.html#str.join)"
  },
  {
   "metadata": {},
   "id": "78336443-0deb-402a-9056-1eac1dd21892",
   "cell_type": "markdown",
   "source": "## Using `pathlib`\n\n1. `Path('.')` : Represents the current directory as a path object\n2. `.iterdir()` : Iterates over all entries (files and dirs) in the directory\n3. `f.is_file()`\n\nThis approach is more modern and uses OOP."
  },
  {
   "metadata": {
    "trusted": true
   },
   "id": "39bc2efe-324d-440d-a599-32e4368709c2",
   "cell_type": "code",
   "source": "from pathlib import Path\n\nfiles = [f.name for f in Path('.').iterdir() if f.is_file()]\nprint(\"\\n\".join(files))",
   "execution_count": 2,
   "outputs": [
    {
     "output_type": "stream",
     "text": "files.html\nfiles.ipynb\nfiles.md\n",
     "name": "stdout"
    }
   ]
  },
  {
   "metadata": {},
   "id": "5c11c95b-9140-4b99-bdf4-b20b3546480b",
   "cell_type": "markdown",
   "source": "### Resources\n\n- [RealPython: python-pathlib](https://realpython.com/python-pathlib/)\n- [pathlib pathlib.Path](https://docs.python.org/3/library/pathlib.html#pathlib.Path)\n- [pathlib pathlib.Path.iterdir](https://docs.python.org/3/library/pathlib.html#pathlib.Path.iterdir)\n"
  },
  {
   "metadata": {},
   "id": "5a812d0b-514f-4875-a2f3-a06d458bbf28",
   "cell_type": "markdown",
   "source": "## Using bash\n\n### Using `ls`\n\n```bash\nls -p | grep -v /\n```\n\n1. `ls -p` : lists all the files and directories, directories are shown with a trailing `/`\n2. `grep -v /` : inverted grep, match all lines NOT containing `/` (directories)\n\n### When only files\n\n`ls -1`\n\nList all items in the current directory on one line.\n\n### Using `find`\n\n`find -maxdepth 1 -type f`\n\n"
  }
 ],
 "metadata": {
  "kernelspec": {
   "name": "python3",
   "display_name": "Python 3",
   "language": "python"
  },
  "language_info": {
   "name": "python",
   "version": "3.10.4",
   "mimetype": "text/x-python",
   "codemirror_mode": {
    "name": "ipython",
    "version": 3
   },
   "pygments_lexer": "ipython3",
   "nbconvert_exporter": "python",
   "file_extension": ".py"
  }
 },
 "nbformat": 4,
 "nbformat_minor": 5
}