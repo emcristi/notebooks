{
 "cells": [
  {
   "metadata": {},
   "cell_type": "markdown",
   "source": "Compute hashes MD5, SHA1 and SHA256 and measure their output in bytes and bits.\n\nDisplay the result in a table.\n\n"
  },
  {
   "metadata": {
    "trusted": true
   },
   "cell_type": "code",
   "source": "text:str = \"Cristi\"\n\nimport sys\nprint(\"Python version: {}\".format(sys.version[0:7]))",
   "execution_count": 9,
   "outputs": [
    {
     "output_type": "stream",
     "text": "Python version: 3.10.4 \n",
     "name": "stdout"
    }
   ]
  },
  {
   "metadata": {
    "trusted": false
   },
   "cell_type": "code",
   "source": "import hashlib\n\nalgorithms = ['md5', 'sha1', 'sha256']\ntable = []\nfor a in algorithms:\n    hash_alg = hashlib.new(a)\n    encoded_str = text.encode('utf-8')\n    hash_alg.update(encoded_str)\n    hex_size = hash_alg.digest_size\n    table.append([a, hex_size, hex_size * 8])\n    #print(f\"{a:>10} : {hex_size} - {hex_size * 8}\")",
   "execution_count": 11,
   "outputs": []
  },
  {
   "metadata": {
    "trusted": true
   },
   "cell_type": "code",
   "source": "from IPython.display import HTML, display\nfrom typing import List\nRow = List[str]\n\nhead:Row = ['algorithm', 'bytes', 'bits']\ndef get_table_row(elements:Row, is_head:bool=False)->str:\n    #th does not work\n    cell:str = '<b>{}</b>' if is_head else '{}'\n    r:str = \"<tr>{}</tr>\".format(\"\\n\".join([f\"<td>{cell.format(e)}</td>\" for e in elements]))\n    return r\n\ndef get_table(head:Row, rows:list[Row])->str:\n    head = get_table_row(head)\n    rows = '\\n'.join([get_table_row(r) for r in rows])\n    return \"<table>\"+head+rows+\"</table\"\n\ndisplay(HTML(get_table(head, table)))",
   "execution_count": 7,
   "outputs": [
    {
     "output_type": "display_data",
     "data": {
      "text/plain": "<IPython.core.display.HTML object>",
      "text/html": "<table><tr><td>algorithm</td>\n<td>bytes</td>\n<td>bits</td></tr><tr><td>md5</td>\n<td>16</td>\n<td>128</td></tr>\n<tr><td>sha1</td>\n<td>20</td>\n<td>160</td></tr>\n<tr><td>sha256</td>\n<td>32</td>\n<td>256</td></tr></table"
     },
     "metadata": {}
    }
   ]
  }
 ],
 "metadata": {
  "kernelspec": {
   "name": "python3",
   "display_name": "Python 3",
   "language": "python"
  },
  "language_info": {
   "name": "python",
   "version": "3.10.4",
   "mimetype": "text/x-python",
   "codemirror_mode": {
    "name": "ipython",
    "version": 3
   },
   "pygments_lexer": "ipython3",
   "nbconvert_exporter": "python",
   "file_extension": ".py"
  }
 },
 "nbformat": 4,
 "nbformat_minor": 2
}