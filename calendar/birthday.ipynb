{
 "cells": [
  {
   "cell_type": "markdown",
   "id": "8d434379-8abb-4949-a3a1-90c08bb46a89",
   "metadata": {},
   "source": [
    "# Birthday\n",
    "\n",
    "For my birthday, in what years, the day of the week was the same as in my birth year? How about for everyone in my family?\n"
   ]
  },
  {
   "cell_type": "code",
   "execution_count": 8,
   "id": "62120029-9b89-4215-bb55-02f8bf01be68",
   "metadata": {},
   "outputs": [
    {
     "name": "stdout",
     "output_type": "stream",
     "text": [
      "[1978, 1989, 1995, 2000, 2006, 2017, 2023, 2028]\n"
     ]
    }
   ],
   "source": [
    "from datetime import date\n",
    "\n",
    "\n",
    "birthdays = {\n",
    "    'father': '1956-06-19',\n",
    "    'me':'1978-09-01',\n",
    "    'mother':'1957-08-26',\n",
    "    'brother':'1980-05-19',\n",
    "    'Carmen':'1978-04-10'\n",
    "}\n",
    "\n",
    "for person in birthdays:\n",
    "    d = birthdays[person]\n",
    "    birthdays[person] = date(*map(int,d.split('-')))\n",
    "\n",
    "my_weekday = birthdays['me'].weekday()\n",
    "my_month = birthdays['me'].month\n",
    "my_day = birthdays['me'].day\n",
    "\n",
    "ys = [year for year in range(1978, 2030) if birthdays['me'].weekday() == date(year,my_month,my_day).weekday()]\n",
    "\n",
    "print(ys)"
   ]
  },
  {
   "cell_type": "markdown",
   "id": "c86c5fc7-4a16-473b-9158-7d85d9802640",
   "metadata": {},
   "source": [
    "## Spread operator\n",
    "\n",
    "Spread operator in Python is `*`.\n",
    "\n",
    "To convert to integer user `map(int, array)`."
   ]
  }
 ],
 "metadata": {
  "kernelspec": {
   "display_name": "Python 3 (ipykernel)",
   "language": "python",
   "name": "python3"
  },
  "language_info": {
   "codemirror_mode": {
    "name": "ipython",
    "version": 3
   },
   "file_extension": ".py",
   "mimetype": "text/x-python",
   "name": "python",
   "nbconvert_exporter": "python",
   "pygments_lexer": "ipython3",
   "version": "3.10.16"
  }
 },
 "nbformat": 4,
 "nbformat_minor": 5
}
