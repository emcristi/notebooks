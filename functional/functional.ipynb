{
 "cells": [
  {
   "metadata": {},
   "cell_type": "markdown",
   "source": "# Functional Python\n\n## Sorting \n\nhttps://docs.python.org/3/howto/sorting.html\n"
  },
  {
   "metadata": {
    "trusted": false
   },
   "cell_type": "markdown",
   "source": "### range function \n\nhttps://cs.stanford.edu/people/nick/py/\n\nhttps://cs.stanford.edu/people/nick/py/python-range.html\n\n\n"
  },
  {
   "metadata": {
    "trusted": true
   },
   "cell_type": "code",
   "source": "l1 = [c for c in range(5)]\nl2 = list(range(5))\n\"\\n\".join(f\"{l}\" for l in [l1, l2])",
   "execution_count": 10,
   "outputs": [
    {
     "output_type": "execute_result",
     "execution_count": 10,
     "data": {
      "text/plain": "'[0, 1, 2, 3, 4]\\n[0, 1, 2, 3, 4]'"
     },
     "metadata": {}
    }
   ]
  }
 ],
 "metadata": {
  "kernelspec": {
   "name": "python3",
   "display_name": "Python 3",
   "language": "python"
  },
  "language_info": {
   "name": "python",
   "version": "3.10.4",
   "mimetype": "text/x-python",
   "codemirror_mode": {
    "name": "ipython",
    "version": 3
   },
   "pygments_lexer": "ipython3",
   "nbconvert_exporter": "python",
   "file_extension": ".py"
  }
 },
 "nbformat": 4,
 "nbformat_minor": 2
}