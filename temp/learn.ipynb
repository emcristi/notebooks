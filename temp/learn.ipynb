{
 "cells": [
  {
   "metadata": {},
   "cell_type": "markdown",
   "source": "Calling a regular function with named arguments. \nThey can appear in any order."
  },
  {
   "metadata": {
    "trusted": true
   },
   "cell_type": "code",
   "source": "def add(x:int, y:str='1', z:int=10) -> int:\n    return x + int(y) + z\n\nadd(8, z=99, y=999)",
   "execution_count": 11,
   "outputs": [
    {
     "output_type": "execute_result",
     "execution_count": 11,
     "data": {
      "text/plain": "1106"
     },
     "metadata": {}
    }
   ]
  },
  {
   "metadata": {},
   "cell_type": "markdown",
   "source": "keyword unpacking "
  },
  {
   "metadata": {
    "trusted": true
   },
   "cell_type": "code",
   "source": "dict={'z':56, 'x':89, 'y':'1002'}\nadd(**dict)",
   "execution_count": 18,
   "outputs": [
    {
     "output_type": "execute_result",
     "execution_count": 18,
     "data": {
      "text/plain": "1147"
     },
     "metadata": {}
    }
   ]
  }
 ],
 "metadata": {
  "kernelspec": {
   "name": "python3",
   "display_name": "Python 3",
   "language": "python"
  },
  "language_info": {
   "name": "python",
   "version": "3.10.4",
   "mimetype": "text/x-python",
   "codemirror_mode": {
    "name": "ipython",
    "version": 3
   },
   "pygments_lexer": "ipython3",
   "nbconvert_exporter": "python",
   "file_extension": ".py"
  }
 },
 "nbformat": 4,
 "nbformat_minor": 2
}