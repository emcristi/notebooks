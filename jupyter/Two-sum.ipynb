{
 "cells": [
  {
   "metadata": {},
   "id": "999881e3-6d38-4e9c-b718-b9104c45b343",
   "cell_type": "markdown",
   "source": "## Two sum"
  },
  {
   "metadata": {},
   "id": "ef4477b2-6fa3-4ca2-ad2e-2496d38703d3",
   "cell_type": "markdown",
   "source": "<https://leetcode.com/problems/two-sum/>\n\n\nGiven an array of integers `nums` and an integer `target`, return _indices of the two numbers such that they add up to `target`_.\n\nYou may assume that each input would have exactly one solution, and you may not use the same element twice.\n\nYou can return the answer in any order.\n\nExample 1:\n\n```\nInput: nums = [2,7,11,15], target = 9\nOutput: [0,1]\nExplanation: Because nums[0] + nums[1] == 9, we return [0, 1].\n```\n\nExample 2:\n\n```\nInput: nums = [3,2,4], target = 6\nOutput: [1,2]\n```\n\nExample 3:\n\n```\nInput: nums = [3,3], target = 6\nOutput: [0,1]\n```\n\n### Constraints\n\n* `2 <= nums.length <= 104`\n* `-109 <= nums[i] <= 109`\n* `-109 <= target <= 109`\n\nOnly one valid answer exists.\n\n### Follow-up\n\nCan you come up with an algorithm that is less than `O(n2)` time complexity?\n"
  },
  {
   "metadata": {
    "trusted": true
   },
   "id": "99532942-04b2-4d91-9745-bf3c1eaaa001",
   "cell_type": "code",
   "source": "class Solution(object):\n    def twoSum(self, nums, target):\n        \"\"\"\n        :type nums: List[int]\n        :type target: int\n        :rtype: List[int]\n        \"\"\"",
   "execution_count": 2,
   "outputs": []
  },
  {
   "metadata": {},
   "id": "07f5229a-af1f-4cd1-9f2b-f4f9ee75dc93",
   "cell_type": "raw",
   "source": "generate an array to work with "
  },
  {
   "metadata": {
    "trusted": true
   },
   "id": "7cdd1c23",
   "cell_type": "code",
   "source": "import random\n\ndef generateArray(l=10000, target=8):\n    a=[]\n    for i in range(l):\n        a.append(random.randrange(1000) + 10000)\n    a[-2] = 2\n    a[-1] = target - 2\n    print(f\"Generated an array with length = {len(a)}\")\n    return a\n\ntarget=9\nlenght=random.randrange(6000)+2000\nlenght=8000\narr = generateArray(lenght,target)",
   "execution_count": 3,
   "outputs": [
    {
     "output_type": "stream",
     "text": "Generated an array with length = 8000\n",
     "name": "stdout"
    }
   ]
  },
  {
   "metadata": {},
   "id": "e5e5a35d",
   "cell_type": "markdown",
   "source": "## naive approach n^2 complexity"
  },
  {
   "metadata": {
    "trusted": true
   },
   "id": "4ff0246c-e478-4233-8057-f973d47f8923",
   "cell_type": "code",
   "source": "%%timeit -r 1 -n 1\n\nimport time\n\ndef twoSum(nums, target):\n    for i in range(len(nums)):\n        for j in range(len(nums)):\n            if nums[i] + nums[j] == target:\n                print(f\"{target} is a sum of indexes {i} and {j}\")\n                return\n\nstart = time.perf_counter()\ntwoSum(arr, target)\nelapsed = time.perf_counter() - start\nprint(f\"----Done in {elapsed:.3f} seconds----\")",
   "execution_count": 4,
   "outputs": [
    {
     "output_type": "stream",
     "text": "9 is a sum of indexes 7998 and 7999\n----Done in 4.309 seconds----\n4.31 s ± 0 ns per loop (mean ± std. dev. of 1 run, 1 loop each)\n",
     "name": "stdout"
    }
   ]
  },
  {
   "metadata": {},
   "id": "d286022e",
   "cell_type": "markdown",
   "source": "## improved approach (copilot)"
  },
  {
   "metadata": {
    "trusted": true
   },
   "id": "ebdb2a68",
   "cell_type": "code",
   "source": "%%timeit -r 1 -n 1\n\nimport time\n\ndef twoSum(nums, target):\n    num_dict = {}\n    for i, num in enumerate(nums):\n        complement = target - num\n        if complement in num_dict:\n            print(f\"{target} is a sum of indexes {num_dict[complement]} and {i}\")\n            return\n        num_dict[num] = i\n\nstart = time.perf_counter()\ntwoSum(arr, target)\nelapsed = time.perf_counter() - start\nprint(f\"----Done in {elapsed:.3f} seconds----\")",
   "execution_count": 5,
   "outputs": [
    {
     "output_type": "stream",
     "text": "9 is a sum of indexes 7998 and 7999\n----Done in 0.001 seconds----\n930 µs ± 0 ns per loop (mean ± std. dev. of 1 run, 1 loop each)\n",
     "name": "stdout"
    }
   ]
  },
  {
   "metadata": {
    "trusted": true
   },
   "id": "f0159d66-a17c-48eb-bea8-0a2e9df063d0",
   "cell_type": "code",
   "source": "",
   "execution_count": null,
   "outputs": []
  }
 ],
 "metadata": {
  "kernelspec": {
   "name": "python3",
   "display_name": "Python 3",
   "language": "python"
  },
  "language_info": {
   "name": "python",
   "version": "3.10.4",
   "mimetype": "text/x-python",
   "codemirror_mode": {
    "name": "ipython",
    "version": 3
   },
   "pygments_lexer": "ipython3",
   "nbconvert_exporter": "python",
   "file_extension": ".py"
  }
 },
 "nbformat": 4,
 "nbformat_minor": 5
}