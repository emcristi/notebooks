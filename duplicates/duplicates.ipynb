{
 "cells": [
  {
   "metadata": {},
   "id": "0e8dedf3-9532-441b-a48c-314002065af6",
   "cell_type": "markdown",
   "source": "Find duplicates from array"
  },
  {
   "metadata": {},
   "id": "acaa1082-fe60-460d-854e-acffdf86b202",
   "cell_type": "markdown",
   "source": "Generate test array"
  },
  {
   "metadata": {
    "trusted": true
   },
   "id": "86c5fa5b-2024-4650-b4bb-9b5e51222154",
   "cell_type": "code",
   "source": "import random\n\ndef generate_nums(n:int=1000):\n    nums = [i for i in range(n)]\n    duplicate_idx = random.randrange(0,n-100)\n    nums[duplicate_idx] = duplicate_idx+52\n    nums[duplicate_idx+1] = duplicate_idx+53\n    return nums\n",
   "execution_count": 5,
   "outputs": []
  },
  {
   "metadata": {
    "trusted": true
   },
   "id": "16f48d78-e10c-4d45-a6bd-92cf17584d5f",
   "cell_type": "code",
   "source": "%%timeit -r 3 -n 5\n\n\ndef find_duplicates_with_loop(nums):\n    seen=set()\n    duplicates=[]\n    for num in nums:\n        if num in seen:\n            duplicates.append(num)\n        else:\n            seen.add(num)\n    return duplicates\n\nnums = generate_nums(9000)\nprint(find_duplicates_with_loop(nums))",
   "execution_count": 6,
   "outputs": [
    {
     "output_type": "stream",
     "text": "[4642, 4643]\n[8007, 8008]\n[7001, 7002]\n[117, 118]\n[7695, 7696]\n[7641, 7642]\n[5088, 5089]\n[5643, 5644]\n[3484, 3485]\n[2198, 2199]\n[4936, 4937]\n[6835, 6836]\n[8698, 8699]\n[6096, 6097]\n[684, 685]\n1.48 ms ± 383 µs per loop (mean ± std. dev. of 3 runs, 5 loops each)\n",
     "name": "stdout"
    }
   ]
  },
  {
   "metadata": {
    "trusted": true
   },
   "id": "d5597f55-a1f8-460b-a582-6126a61aa59d",
   "cell_type": "code",
   "source": "%%timeit -r 3 -n 5\n\ndef find_duplicates_with_comprehensions(nums):\n    seen=set()\n    return [num for num in nums if num in seen or seen.add(num) is not None]\n\nnums = generate_nums(9000)\nprint(find_duplicates_with_comprehensions(nums))",
   "execution_count": 7,
   "outputs": [
    {
     "output_type": "stream",
     "text": "[4241, 4242]\n[444, 445]\n[1941, 1942]\n[8315, 8316]\n[8316, 8317]\n[2835, 2836]\n[6902, 6903]\n[563, 564]\n[1869, 1870]\n[7740, 7741]\n[4148, 4149]\n[6564, 6565]\n[345, 346]\n[3731, 3732]\n[1756, 1757]\n974 µs ± 102 µs per loop (mean ± std. dev. of 3 runs, 5 loops each)\n",
     "name": "stdout"
    }
   ]
  },
  {
   "metadata": {
    "trusted": true
   },
   "id": "cda5d4a9-158b-48e1-a9a3-57ab84d9904c",
   "cell_type": "code",
   "source": "%%timeit -r 3 -n 5\n\ndef find_duplicates_no_aux(nums):\n    duplicates = []\n    for i in range(len(nums)):\n        idx=abs(nums[i]) -1 \n        if nums[idx] < 0 :\n            duplicates.append(abs(nums[i]))\n        else:\n            nums[idx]=-nums[idx]\n    for i in range(len(nums)):\n        nums[i]=abs(nums[i])\n    return duplicates \n\nnums = generate_nums(9000)\nprint(find_duplicates_no_aux(nums))",
   "execution_count": 8,
   "outputs": [
    {
     "output_type": "stream",
     "text": "[7957, 7958]\n[8253, 8254]\n[2918, 2919]\n[8432, 8433]\n[2968, 2969]\n[124, 125]\n[8076, 8077]\n[6101, 6102]\n[7232, 7233]\n[2013, 2014]\n[4207, 4208]\n[4535, 4536]\n[1084, 1085]\n[8121, 8122]\n[3346, 3347]\n2.36 ms ± 189 µs per loop (mean ± std. dev. of 3 runs, 5 loops each)\n",
     "name": "stdout"
    }
   ]
  },
  {
   "metadata": {
    "trusted": true
   },
   "id": "77778a18-ae40-481f-86bf-ba8b960d77ba",
   "cell_type": "code",
   "source": "",
   "execution_count": null,
   "outputs": []
  },
  {
   "metadata": {
    "trusted": true
   },
   "id": "44d21e0c-20a6-4ea9-a5b9-065aeb798b87",
   "cell_type": "code",
   "source": "",
   "execution_count": null,
   "outputs": []
  }
 ],
 "metadata": {
  "kernelspec": {
   "name": "python3",
   "display_name": "Python 3",
   "language": "python"
  },
  "language_info": {
   "name": "python",
   "version": "3.10.4",
   "mimetype": "text/x-python",
   "codemirror_mode": {
    "name": "ipython",
    "version": 3
   },
   "pygments_lexer": "ipython3",
   "nbconvert_exporter": "python",
   "file_extension": ".py"
  }
 },
 "nbformat": 4,
 "nbformat_minor": 5
}