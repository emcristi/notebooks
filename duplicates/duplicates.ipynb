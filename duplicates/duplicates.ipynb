{
 "cells": [
  {
   "cell_type": "markdown",
   "id": "0e8dedf3-9532-441b-a48c-314002065af6",
   "metadata": {},
   "source": [
    "Find duplicates from array"
   ]
  },
  {
   "cell_type": "markdown",
   "id": "acaa1082-fe60-460d-854e-acffdf86b202",
   "metadata": {},
   "source": [
    "Generate test array"
   ]
  },
  {
   "cell_type": "code",
   "execution_count": 23,
   "id": "86c5fa5b-2024-4650-b4bb-9b5e51222154",
   "metadata": {},
   "outputs": [],
   "source": [
    "import random\n",
    "\n",
    "def generate_nums(n:int=1000):\n",
    "    nums = [i for i in range(n)]\n",
    "    duplicate_idx = random.randrange(0,n-100)\n",
    "    nums[duplicate_idx] = duplicate_idx+52\n",
    "    nums[duplicate_idx+1] = duplicate_idx+53\n",
    "    return nums\n"
   ]
  },
  {
   "cell_type": "code",
   "execution_count": 24,
   "id": "16f48d78-e10c-4d45-a6bd-92cf17584d5f",
   "metadata": {},
   "outputs": [
    {
     "name": "stdout",
     "output_type": "stream",
     "text": [
      "[1081, 1082]\n",
      "[2718, 2719]\n",
      "[7533, 7534]\n",
      "[5152, 5153]\n",
      "[872, 873]\n",
      "[6869, 6870]\n",
      "[2828, 2829]\n",
      "[6794, 6795]\n",
      "[1598, 1599]\n",
      "[2225, 2226]\n",
      "[3280, 3281]\n",
      "[4129, 4130]\n",
      "[7690, 7691]\n",
      "[2307, 2308]\n",
      "[8602, 8603]\n",
      "1.39 ms ± 49.7 μs per loop (mean ± std. dev. of 3 runs, 5 loops each)\n"
     ]
    }
   ],
   "source": [
    "%%timeit -r 3 -n 5\n",
    "\n",
    "\n",
    "def find_duplicates_with_loop(nums):\n",
    "    seen=set()\n",
    "    duplicates=[]\n",
    "    for num in nums:\n",
    "        if num in seen:\n",
    "            duplicates.append(num)\n",
    "        else:\n",
    "            seen.add(num)\n",
    "    return duplicates\n",
    "\n",
    "nums = generate_nums(9000)\n",
    "print(find_duplicates_with_loop(nums))"
   ]
  },
  {
   "cell_type": "code",
   "execution_count": 25,
   "id": "d5597f55-a1f8-460b-a582-6126a61aa59d",
   "metadata": {},
   "outputs": [
    {
     "name": "stdout",
     "output_type": "stream",
     "text": [
      "[2955, 2956]\n",
      "[1128, 1129]\n",
      "[861, 862]\n",
      "[4694, 4695]\n",
      "[8496, 8497]\n",
      "[8586, 8587]\n",
      "[886, 887]\n",
      "[1941, 1942]\n",
      "[2376, 2377]\n",
      "[1696, 1697]\n",
      "[5968, 5969]\n",
      "[647, 648]\n",
      "[5523, 5524]\n",
      "[8888, 8889]\n",
      "[4034, 4035]\n",
      "1.68 ms ± 80.8 μs per loop (mean ± std. dev. of 3 runs, 5 loops each)\n"
     ]
    }
   ],
   "source": [
    "%%timeit -r 3 -n 5\n",
    "\n",
    "def find_duplicates_with_comprehensions(nums):\n",
    "    seen=set()\n",
    "    return [num for num in nums if num in seen or seen.add(num) is not None]\n",
    "\n",
    "nums = generate_nums(9000)\n",
    "print(find_duplicates_with_loop(nums))"
   ]
  },
  {
   "cell_type": "code",
   "execution_count": 26,
   "id": "cda5d4a9-158b-48e1-a9a3-57ab84d9904c",
   "metadata": {},
   "outputs": [
    {
     "name": "stdout",
     "output_type": "stream",
     "text": [
      "[7274, 7275]\n",
      "[3831, 3832]\n",
      "[8674, 8675]\n",
      "[7907, 7908]\n",
      "[1885, 1886]\n",
      "[6536, 6537]\n",
      "[5594, 5595]\n",
      "[3610, 3611]\n",
      "[7107, 7108]\n",
      "[7585, 7586]\n",
      "[2761, 2762]\n",
      "[4138, 4139]\n",
      "[6848, 6849]\n",
      "[5335, 5336]\n",
      "[7935, 7936]\n",
      "4.83 ms ± 287 μs per loop (mean ± std. dev. of 3 runs, 5 loops each)\n"
     ]
    }
   ],
   "source": [
    "%%timeit -r 3 -n 5\n",
    "\n",
    "def find_duplicates_no_aux(nums):\n",
    "    duplicates = []\n",
    "    for i in range(len(nums)):\n",
    "        idx=abs(nums[i]) -1 \n",
    "        if nums[idx] < 0 :\n",
    "            duplicates.append(abs(nums[i]))\n",
    "        else:\n",
    "            nums[idx]=-nums[idx]\n",
    "    for i in range(len(nums)):\n",
    "        nums[i]=abs(nums[i])\n",
    "    return duplicates \n",
    "\n",
    "nums = generate_nums(9000)\n",
    "print(find_duplicates_no_aux(nums))"
   ]
  },
  {
   "cell_type": "code",
   "execution_count": null,
   "id": "77778a18-ae40-481f-86bf-ba8b960d77ba",
   "metadata": {},
   "outputs": [],
   "source": []
  },
  {
   "cell_type": "code",
   "execution_count": null,
   "id": "44d21e0c-20a6-4ea9-a5b9-065aeb798b87",
   "metadata": {},
   "outputs": [],
   "source": []
  }
 ],
 "metadata": {
  "kernelspec": {
   "display_name": "Python 3 (ipykernel)",
   "language": "python",
   "name": "python3"
  },
  "language_info": {
   "codemirror_mode": {
    "name": "ipython",
    "version": 3
   },
   "file_extension": ".py",
   "mimetype": "text/x-python",
   "name": "python",
   "nbconvert_exporter": "python",
   "pygments_lexer": "ipython3",
   "version": "3.10.15"
  }
 },
 "nbformat": 4,
 "nbformat_minor": 5
}
