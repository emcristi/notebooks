{
 "cells": [
  {
   "metadata": {
    "trusted": false
   },
   "cell_type": "markdown",
   "source": "\nDisplay  the  current date,  \n- day of the week,  \n- name of month\n- hour,  minutes,   seconds\n\n\n print all  files in current directory\n \n convert to ab integer strings of type  \n - \"1,234,546K\"\n  \n transform lists of type [1, 2, 5]  into [2, 4, 10]\n \n transform number 234567 into \"2-6-8-10-12-14\"\n \n \n compute MD5 hash  result  size  in  bytes  and bits\n - compare with SHA1\n \n "
  }
 ],
 "metadata": {
  "kernelspec": {
   "name": "python3",
   "display_name": "Python 3",
   "language": "python"
  },
  "language_info": {
   "name": "python",
   "version": "3.10.4",
   "mimetype": "text/x-python",
   "codemirror_mode": {
    "name": "ipython",
    "version": 3
   },
   "pygments_lexer": "ipython3",
   "nbconvert_exporter": "python",
   "file_extension": ".py"
  }
 },
 "nbformat": 4,
 "nbformat_minor": 2
}